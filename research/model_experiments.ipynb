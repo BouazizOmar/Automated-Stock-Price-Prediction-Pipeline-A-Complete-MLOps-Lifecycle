{
 "cells": [
  {
   "cell_type": "code",
   "execution_count": 1,
   "metadata": {},
   "outputs": [],
   "source": [
    "import numpy as np\n",
    "import os\n",
    "import matplotlib.pyplot as plt"
   ]
  },
  {
   "cell_type": "code",
   "execution_count": 2,
   "metadata": {},
   "outputs": [
    {
     "data": {
      "text/plain": [
       "'c:\\\\Users\\\\Portable\\\\OneDrive\\\\Desktop\\\\Automated-Stock-Price-Prediction-Pipeline-A-Complete-MLOps-Lifecycle\\\\research'"
      ]
     },
     "execution_count": 2,
     "metadata": {},
     "output_type": "execute_result"
    }
   ],
   "source": [
    "%pwd"
   ]
  },
  {
   "cell_type": "code",
   "execution_count": 3,
   "metadata": {},
   "outputs": [],
   "source": [
    "os.chdir(\"../\")"
   ]
  },
  {
   "cell_type": "code",
   "execution_count": 4,
   "metadata": {},
   "outputs": [
    {
     "data": {
      "text/plain": [
       "'c:\\\\Users\\\\Portable\\\\OneDrive\\\\Desktop\\\\Automated-Stock-Price-Prediction-Pipeline-A-Complete-MLOps-Lifecycle'"
      ]
     },
     "execution_count": 4,
     "metadata": {},
     "output_type": "execute_result"
    }
   ],
   "source": [
    "%pwd"
   ]
  },
  {
   "cell_type": "code",
   "execution_count": 5,
   "metadata": {},
   "outputs": [],
   "source": [
    "import pandas as pd"
   ]
  },
  {
   "cell_type": "code",
   "execution_count": 58,
   "metadata": {},
   "outputs": [],
   "source": [
    "data = pd.read_csv(r\"data\\processed\\processed_stock_data.csv\")"
   ]
  },
  {
   "cell_type": "code",
   "execution_count": 59,
   "metadata": {},
   "outputs": [
    {
     "data": {
      "text/html": [
       "<div>\n",
       "<style scoped>\n",
       "    .dataframe tbody tr th:only-of-type {\n",
       "        vertical-align: middle;\n",
       "    }\n",
       "\n",
       "    .dataframe tbody tr th {\n",
       "        vertical-align: top;\n",
       "    }\n",
       "\n",
       "    .dataframe thead th {\n",
       "        text-align: right;\n",
       "    }\n",
       "</style>\n",
       "<table border=\"1\" class=\"dataframe\">\n",
       "  <thead>\n",
       "    <tr style=\"text-align: right;\">\n",
       "      <th></th>\n",
       "      <th>date</th>\n",
       "      <th>open</th>\n",
       "      <th>high</th>\n",
       "      <th>low</th>\n",
       "      <th>close</th>\n",
       "      <th>volume</th>\n",
       "      <th>close_normalized</th>\n",
       "      <th>SMA_20</th>\n",
       "      <th>EMA_20</th>\n",
       "      <th>close_lag1</th>\n",
       "      <th>close_lag3</th>\n",
       "    </tr>\n",
       "  </thead>\n",
       "  <tbody>\n",
       "    <tr>\n",
       "      <th>0</th>\n",
       "      <td>2024-11-27</td>\n",
       "      <td>228.83</td>\n",
       "      <td>229.19</td>\n",
       "      <td>224.2700</td>\n",
       "      <td>226.92</td>\n",
       "      <td>2995121</td>\n",
       "      <td>2.584790</td>\n",
       "      <td>132.019178</td>\n",
       "      <td>226.920000</td>\n",
       "      <td>132.097824</td>\n",
       "      <td>132.109718</td>\n",
       "    </tr>\n",
       "    <tr>\n",
       "      <th>1</th>\n",
       "      <td>2024-11-26</td>\n",
       "      <td>226.73</td>\n",
       "      <td>228.98</td>\n",
       "      <td>225.5115</td>\n",
       "      <td>228.83</td>\n",
       "      <td>4449543</td>\n",
       "      <td>2.636853</td>\n",
       "      <td>132.019178</td>\n",
       "      <td>227.101905</td>\n",
       "      <td>226.920000</td>\n",
       "      <td>132.109718</td>\n",
       "    </tr>\n",
       "    <tr>\n",
       "      <th>2</th>\n",
       "      <td>2024-11-25</td>\n",
       "      <td>223.35</td>\n",
       "      <td>226.42</td>\n",
       "      <td>222.6500</td>\n",
       "      <td>226.13</td>\n",
       "      <td>7189260</td>\n",
       "      <td>2.563257</td>\n",
       "      <td>132.019178</td>\n",
       "      <td>227.009342</td>\n",
       "      <td>228.830000</td>\n",
       "      <td>132.109718</td>\n",
       "    </tr>\n",
       "    <tr>\n",
       "      <th>3</th>\n",
       "      <td>2024-11-22</td>\n",
       "      <td>223.35</td>\n",
       "      <td>227.20</td>\n",
       "      <td>220.8900</td>\n",
       "      <td>222.97</td>\n",
       "      <td>5320740</td>\n",
       "      <td>2.477122</td>\n",
       "      <td>132.019178</td>\n",
       "      <td>226.624643</td>\n",
       "      <td>226.130000</td>\n",
       "      <td>226.920000</td>\n",
       "    </tr>\n",
       "    <tr>\n",
       "      <th>4</th>\n",
       "      <td>2024-11-21</td>\n",
       "      <td>215.81</td>\n",
       "      <td>222.63</td>\n",
       "      <td>215.2701</td>\n",
       "      <td>222.40</td>\n",
       "      <td>5236434</td>\n",
       "      <td>2.461585</td>\n",
       "      <td>132.019178</td>\n",
       "      <td>226.222296</td>\n",
       "      <td>222.970000</td>\n",
       "      <td>228.830000</td>\n",
       "    </tr>\n",
       "    <tr>\n",
       "      <th>...</th>\n",
       "      <td>...</td>\n",
       "      <td>...</td>\n",
       "      <td>...</td>\n",
       "      <td>...</td>\n",
       "      <td>...</td>\n",
       "      <td>...</td>\n",
       "      <td>...</td>\n",
       "      <td>...</td>\n",
       "      <td>...</td>\n",
       "      <td>...</td>\n",
       "      <td>...</td>\n",
       "    </tr>\n",
       "    <tr>\n",
       "      <th>6305</th>\n",
       "      <td>1999-11-05</td>\n",
       "      <td>92.75</td>\n",
       "      <td>92.94</td>\n",
       "      <td>90.1900</td>\n",
       "      <td>90.25</td>\n",
       "      <td>13737600</td>\n",
       "      <td>-1.140524</td>\n",
       "      <td>100.064500</td>\n",
       "      <td>99.307016</td>\n",
       "      <td>93.940000</td>\n",
       "      <td>97.000000</td>\n",
       "    </tr>\n",
       "    <tr>\n",
       "      <th>6306</th>\n",
       "      <td>1999-11-04</td>\n",
       "      <td>94.44</td>\n",
       "      <td>94.44</td>\n",
       "      <td>90.0000</td>\n",
       "      <td>91.56</td>\n",
       "      <td>16697600</td>\n",
       "      <td>-1.104817</td>\n",
       "      <td>99.049000</td>\n",
       "      <td>98.569205</td>\n",
       "      <td>90.250000</td>\n",
       "      <td>93.620000</td>\n",
       "    </tr>\n",
       "    <tr>\n",
       "      <th>6307</th>\n",
       "      <td>1999-11-03</td>\n",
       "      <td>95.87</td>\n",
       "      <td>95.94</td>\n",
       "      <td>93.5000</td>\n",
       "      <td>94.37</td>\n",
       "      <td>10369100</td>\n",
       "      <td>-1.028222</td>\n",
       "      <td>98.504000</td>\n",
       "      <td>98.169281</td>\n",
       "      <td>91.560000</td>\n",
       "      <td>93.940000</td>\n",
       "    </tr>\n",
       "    <tr>\n",
       "      <th>6308</th>\n",
       "      <td>1999-11-02</td>\n",
       "      <td>96.75</td>\n",
       "      <td>96.81</td>\n",
       "      <td>93.6900</td>\n",
       "      <td>94.81</td>\n",
       "      <td>11105400</td>\n",
       "      <td>-1.016229</td>\n",
       "      <td>98.073500</td>\n",
       "      <td>97.849349</td>\n",
       "      <td>94.370000</td>\n",
       "      <td>90.250000</td>\n",
       "    </tr>\n",
       "    <tr>\n",
       "      <th>6309</th>\n",
       "      <td>1999-11-01</td>\n",
       "      <td>98.50</td>\n",
       "      <td>98.81</td>\n",
       "      <td>96.3700</td>\n",
       "      <td>96.75</td>\n",
       "      <td>9551800</td>\n",
       "      <td>-0.963349</td>\n",
       "      <td>97.758000</td>\n",
       "      <td>97.744649</td>\n",
       "      <td>94.810000</td>\n",
       "      <td>91.560000</td>\n",
       "    </tr>\n",
       "  </tbody>\n",
       "</table>\n",
       "<p>6310 rows × 11 columns</p>\n",
       "</div>"
      ],
      "text/plain": [
       "            date    open    high       low   close    volume  \\\n",
       "0     2024-11-27  228.83  229.19  224.2700  226.92   2995121   \n",
       "1     2024-11-26  226.73  228.98  225.5115  228.83   4449543   \n",
       "2     2024-11-25  223.35  226.42  222.6500  226.13   7189260   \n",
       "3     2024-11-22  223.35  227.20  220.8900  222.97   5320740   \n",
       "4     2024-11-21  215.81  222.63  215.2701  222.40   5236434   \n",
       "...          ...     ...     ...       ...     ...       ...   \n",
       "6305  1999-11-05   92.75   92.94   90.1900   90.25  13737600   \n",
       "6306  1999-11-04   94.44   94.44   90.0000   91.56  16697600   \n",
       "6307  1999-11-03   95.87   95.94   93.5000   94.37  10369100   \n",
       "6308  1999-11-02   96.75   96.81   93.6900   94.81  11105400   \n",
       "6309  1999-11-01   98.50   98.81   96.3700   96.75   9551800   \n",
       "\n",
       "      close_normalized      SMA_20      EMA_20  close_lag1  close_lag3  \n",
       "0             2.584790  132.019178  226.920000  132.097824  132.109718  \n",
       "1             2.636853  132.019178  227.101905  226.920000  132.109718  \n",
       "2             2.563257  132.019178  227.009342  228.830000  132.109718  \n",
       "3             2.477122  132.019178  226.624643  226.130000  226.920000  \n",
       "4             2.461585  132.019178  226.222296  222.970000  228.830000  \n",
       "...                ...         ...         ...         ...         ...  \n",
       "6305         -1.140524  100.064500   99.307016   93.940000   97.000000  \n",
       "6306         -1.104817   99.049000   98.569205   90.250000   93.620000  \n",
       "6307         -1.028222   98.504000   98.169281   91.560000   93.940000  \n",
       "6308         -1.016229   98.073500   97.849349   94.370000   90.250000  \n",
       "6309         -0.963349   97.758000   97.744649   94.810000   91.560000  \n",
       "\n",
       "[6310 rows x 11 columns]"
      ]
     },
     "execution_count": 59,
     "metadata": {},
     "output_type": "execute_result"
    }
   ],
   "source": [
    "data"
   ]
  },
  {
   "cell_type": "code",
   "execution_count": 8,
   "metadata": {},
   "outputs": [
    {
     "data": {
      "text/html": [
       "<div>\n",
       "<style scoped>\n",
       "    .dataframe tbody tr th:only-of-type {\n",
       "        vertical-align: middle;\n",
       "    }\n",
       "\n",
       "    .dataframe tbody tr th {\n",
       "        vertical-align: top;\n",
       "    }\n",
       "\n",
       "    .dataframe thead th {\n",
       "        text-align: right;\n",
       "    }\n",
       "</style>\n",
       "<table border=\"1\" class=\"dataframe\">\n",
       "  <thead>\n",
       "    <tr style=\"text-align: right;\">\n",
       "      <th></th>\n",
       "      <th>close</th>\n",
       "    </tr>\n",
       "  </thead>\n",
       "  <tbody>\n",
       "    <tr>\n",
       "      <th>0</th>\n",
       "      <td>227.0100</td>\n",
       "    </tr>\n",
       "    <tr>\n",
       "      <th>1</th>\n",
       "      <td>226.9100</td>\n",
       "    </tr>\n",
       "    <tr>\n",
       "      <th>2</th>\n",
       "      <td>227.2800</td>\n",
       "    </tr>\n",
       "    <tr>\n",
       "      <th>3</th>\n",
       "      <td>227.2800</td>\n",
       "    </tr>\n",
       "    <tr>\n",
       "      <th>4</th>\n",
       "      <td>227.3300</td>\n",
       "    </tr>\n",
       "    <tr>\n",
       "      <th>...</th>\n",
       "      <td>...</td>\n",
       "    </tr>\n",
       "    <tr>\n",
       "      <th>13463</th>\n",
       "      <td>208.7765</td>\n",
       "    </tr>\n",
       "    <tr>\n",
       "      <th>13464</th>\n",
       "      <td>208.2804</td>\n",
       "    </tr>\n",
       "    <tr>\n",
       "      <th>13465</th>\n",
       "      <td>209.0543</td>\n",
       "    </tr>\n",
       "    <tr>\n",
       "      <th>13466</th>\n",
       "      <td>209.3420</td>\n",
       "    </tr>\n",
       "    <tr>\n",
       "      <th>13467</th>\n",
       "      <td>210.1953</td>\n",
       "    </tr>\n",
       "  </tbody>\n",
       "</table>\n",
       "<p>13468 rows × 1 columns</p>\n",
       "</div>"
      ],
      "text/plain": [
       "          close\n",
       "0      227.0100\n",
       "1      226.9100\n",
       "2      227.2800\n",
       "3      227.2800\n",
       "4      227.3300\n",
       "...         ...\n",
       "13463  208.7765\n",
       "13464  208.2804\n",
       "13465  209.0543\n",
       "13466  209.3420\n",
       "13467  210.1953\n",
       "\n",
       "[13468 rows x 1 columns]"
      ]
     },
     "execution_count": 8,
     "metadata": {},
     "output_type": "execute_result"
    }
   ],
   "source": [
    "# Create a new dataframe with only the 'Close column \n",
    "close_data = data.filter(['close'])\n",
    "close_data"
   ]
  },
  {
   "cell_type": "code",
   "execution_count": null,
   "metadata": {},
   "outputs": [],
   "source": []
  },
  {
   "cell_type": "code",
   "execution_count": 9,
   "metadata": {},
   "outputs": [],
   "source": [
    "# Convert the dataframe to a numpy array\n",
    "dataset = close_data.values"
   ]
  },
  {
   "cell_type": "code",
   "execution_count": 10,
   "metadata": {},
   "outputs": [
    {
     "data": {
      "text/plain": [
       "array([[227.01  ],\n",
       "       [226.91  ],\n",
       "       [227.28  ],\n",
       "       ...,\n",
       "       [209.0543],\n",
       "       [209.342 ],\n",
       "       [210.1953]])"
      ]
     },
     "execution_count": 10,
     "metadata": {},
     "output_type": "execute_result"
    }
   ],
   "source": [
    "dataset"
   ]
  },
  {
   "cell_type": "code",
   "execution_count": 29,
   "metadata": {},
   "outputs": [
    {
     "data": {
      "text/plain": [
       "13368"
      ]
     },
     "execution_count": 29,
     "metadata": {},
     "output_type": "execute_result"
    }
   ],
   "source": [
    "# Get the number of rows to train the model on\n",
    "training_data_len = len(dataset) - 100\n",
    "training_data_len"
   ]
  },
  {
   "cell_type": "code",
   "execution_count": 31,
   "metadata": {},
   "outputs": [],
   "source": [
    "train_data = close_data.tail(training_data_len)"
   ]
  },
  {
   "cell_type": "code",
   "execution_count": 32,
   "metadata": {},
   "outputs": [
    {
     "data": {
      "text/plain": [
       "(13368, 1)"
      ]
     },
     "execution_count": 32,
     "metadata": {},
     "output_type": "execute_result"
    }
   ],
   "source": [
    "train_data.shape"
   ]
  },
  {
   "cell_type": "code",
   "execution_count": 33,
   "metadata": {},
   "outputs": [
    {
     "data": {
      "text/html": [
       "<div>\n",
       "<style scoped>\n",
       "    .dataframe tbody tr th:only-of-type {\n",
       "        vertical-align: middle;\n",
       "    }\n",
       "\n",
       "    .dataframe tbody tr th {\n",
       "        vertical-align: top;\n",
       "    }\n",
       "\n",
       "    .dataframe thead th {\n",
       "        text-align: right;\n",
       "    }\n",
       "</style>\n",
       "<table border=\"1\" class=\"dataframe\">\n",
       "  <thead>\n",
       "    <tr style=\"text-align: right;\">\n",
       "      <th></th>\n",
       "      <th>close</th>\n",
       "    </tr>\n",
       "  </thead>\n",
       "  <tbody>\n",
       "    <tr>\n",
       "      <th>100</th>\n",
       "      <td>226.1400</td>\n",
       "    </tr>\n",
       "    <tr>\n",
       "      <th>101</th>\n",
       "      <td>226.1000</td>\n",
       "    </tr>\n",
       "    <tr>\n",
       "      <th>102</th>\n",
       "      <td>226.0400</td>\n",
       "    </tr>\n",
       "    <tr>\n",
       "      <th>103</th>\n",
       "      <td>225.9757</td>\n",
       "    </tr>\n",
       "    <tr>\n",
       "      <th>104</th>\n",
       "      <td>225.9551</td>\n",
       "    </tr>\n",
       "    <tr>\n",
       "      <th>...</th>\n",
       "      <td>...</td>\n",
       "    </tr>\n",
       "    <tr>\n",
       "      <th>13463</th>\n",
       "      <td>208.7765</td>\n",
       "    </tr>\n",
       "    <tr>\n",
       "      <th>13464</th>\n",
       "      <td>208.2804</td>\n",
       "    </tr>\n",
       "    <tr>\n",
       "      <th>13465</th>\n",
       "      <td>209.0543</td>\n",
       "    </tr>\n",
       "    <tr>\n",
       "      <th>13466</th>\n",
       "      <td>209.3420</td>\n",
       "    </tr>\n",
       "    <tr>\n",
       "      <th>13467</th>\n",
       "      <td>210.1953</td>\n",
       "    </tr>\n",
       "  </tbody>\n",
       "</table>\n",
       "<p>13368 rows × 1 columns</p>\n",
       "</div>"
      ],
      "text/plain": [
       "          close\n",
       "100    226.1400\n",
       "101    226.1000\n",
       "102    226.0400\n",
       "103    225.9757\n",
       "104    225.9551\n",
       "...         ...\n",
       "13463  208.7765\n",
       "13464  208.2804\n",
       "13465  209.0543\n",
       "13466  209.3420\n",
       "13467  210.1953\n",
       "\n",
       "[13368 rows x 1 columns]"
      ]
     },
     "execution_count": 33,
     "metadata": {},
     "output_type": "execute_result"
    }
   ],
   "source": [
    "train_data"
   ]
  },
  {
   "cell_type": "code",
   "execution_count": 34,
   "metadata": {},
   "outputs": [],
   "source": [
    "test_data = close_data.head(100)"
   ]
  },
  {
   "cell_type": "code",
   "execution_count": 35,
   "metadata": {},
   "outputs": [
    {
     "data": {
      "text/html": [
       "<div>\n",
       "<style scoped>\n",
       "    .dataframe tbody tr th:only-of-type {\n",
       "        vertical-align: middle;\n",
       "    }\n",
       "\n",
       "    .dataframe tbody tr th {\n",
       "        vertical-align: top;\n",
       "    }\n",
       "\n",
       "    .dataframe thead th {\n",
       "        text-align: right;\n",
       "    }\n",
       "</style>\n",
       "<table border=\"1\" class=\"dataframe\">\n",
       "  <thead>\n",
       "    <tr style=\"text-align: right;\">\n",
       "      <th></th>\n",
       "      <th>close</th>\n",
       "    </tr>\n",
       "  </thead>\n",
       "  <tbody>\n",
       "    <tr>\n",
       "      <th>0</th>\n",
       "      <td>227.0100</td>\n",
       "    </tr>\n",
       "    <tr>\n",
       "      <th>1</th>\n",
       "      <td>226.9100</td>\n",
       "    </tr>\n",
       "    <tr>\n",
       "      <th>2</th>\n",
       "      <td>227.2800</td>\n",
       "    </tr>\n",
       "    <tr>\n",
       "      <th>3</th>\n",
       "      <td>227.2800</td>\n",
       "    </tr>\n",
       "    <tr>\n",
       "      <th>4</th>\n",
       "      <td>227.3300</td>\n",
       "    </tr>\n",
       "    <tr>\n",
       "      <th>...</th>\n",
       "      <td>...</td>\n",
       "    </tr>\n",
       "    <tr>\n",
       "      <th>95</th>\n",
       "      <td>226.3000</td>\n",
       "    </tr>\n",
       "    <tr>\n",
       "      <th>96</th>\n",
       "      <td>226.3300</td>\n",
       "    </tr>\n",
       "    <tr>\n",
       "      <th>97</th>\n",
       "      <td>226.1899</td>\n",
       "    </tr>\n",
       "    <tr>\n",
       "      <th>98</th>\n",
       "      <td>226.2462</td>\n",
       "    </tr>\n",
       "    <tr>\n",
       "      <th>99</th>\n",
       "      <td>226.1500</td>\n",
       "    </tr>\n",
       "  </tbody>\n",
       "</table>\n",
       "<p>100 rows × 1 columns</p>\n",
       "</div>"
      ],
      "text/plain": [
       "       close\n",
       "0   227.0100\n",
       "1   226.9100\n",
       "2   227.2800\n",
       "3   227.2800\n",
       "4   227.3300\n",
       "..       ...\n",
       "95  226.3000\n",
       "96  226.3300\n",
       "97  226.1899\n",
       "98  226.2462\n",
       "99  226.1500\n",
       "\n",
       "[100 rows x 1 columns]"
      ]
     },
     "execution_count": 35,
     "metadata": {},
     "output_type": "execute_result"
    }
   ],
   "source": [
    "test_data"
   ]
  },
  {
   "cell_type": "code",
   "execution_count": 13,
   "metadata": {},
   "outputs": [
    {
     "data": {
      "text/plain": [
       "array([[0.89347793],\n",
       "       [0.88991532],\n",
       "       [0.90309698],\n",
       "       ...,\n",
       "       [0.25378616],\n",
       "       [0.2640358 ],\n",
       "       [0.29443556]])"
      ]
     },
     "execution_count": 13,
     "metadata": {},
     "output_type": "execute_result"
    }
   ],
   "source": [
    "# Scale the data\n",
    "from sklearn.preprocessing import MinMaxScaler\n",
    "\n",
    "scaler = MinMaxScaler(feature_range=(0,1))\n",
    "scaled_data = scaler.fit_transform(dataset)\n",
    "\n",
    "scaled_data"
   ]
  },
  {
   "cell_type": "code",
   "execution_count": 25,
   "metadata": {},
   "outputs": [],
   "source": [
    "# Create the training data set \n",
    "# Create the scaled training data set\n",
    "train_data = scaled_data[0:int(training_data_len), :]"
   ]
  },
  {
   "cell_type": "code",
   "execution_count": 28,
   "metadata": {},
   "outputs": [
    {
     "data": {
      "text/plain": [
       "13743"
      ]
     },
     "execution_count": 28,
     "metadata": {},
     "output_type": "execute_result"
    }
   ],
   "source": [
    "len(train_data)"
   ]
  },
  {
   "cell_type": "code",
   "execution_count": 50,
   "metadata": {},
   "outputs": [],
   "source": [
    "# Split the data into x_train and y_train data sets\n",
    "x_train = []\n",
    "y_train = []"
   ]
  },
  {
   "cell_type": "code",
   "execution_count": 51,
   "metadata": {},
   "outputs": [
    {
     "name": "stdout",
     "output_type": "stream",
     "text": [
      "[array([0.67159581, 0.67159581, 0.65223796, 0.65224124, 0.66700242,\n",
      "       0.65256606, 0.66536193, 0.66569003, 0.60925699, 0.66831482,\n",
      "       0.66831482, 0.66831482, 0.6729082 , 0.60925699, 0.67159581,\n",
      "       0.67126771, 0.66831482, 0.67159581, 0.67258011, 0.67159581,\n",
      "       0.67159581, 0.67159581, 0.6729082 , 0.67159581, 0.66831482,\n",
      "       0.6729082 , 0.67258011, 0.65847513, 0.66831482, 0.6729082 ,\n",
      "       0.65847185, 0.6729082 , 0.6729082 , 0.6729082 , 0.6729082 ,\n",
      "       0.66831482, 0.6729082 , 0.6729082 , 0.67159581, 0.67159581,\n",
      "       0.67159581, 0.67061151, 0.67093961, 0.65847185, 0.6729082 ,\n",
      "       0.66700242, 0.66601812, 0.66569003, 0.66601812, 0.65883275,\n",
      "       0.67093961, 0.65847185, 0.66995531, 0.66569003, 0.66569003,\n",
      "       0.65847185, 0.65879994, 0.65847185, 0.65847185, 0.65912804])]\n",
      "[0.6584718458196903]\n",
      "\n"
     ]
    }
   ],
   "source": [
    "for i in range(60, len(train_data)):\n",
    "    x_train.append(train_data[i-60:i, 0])  # Take 60 consecutive data points\n",
    "    y_train.append(train_data[i, 0])      # Take the next data point as the target\n",
    "    if i <= 60:\n",
    "        print(x_train)\n",
    "        print(y_train)\n",
    "        print()"
   ]
  },
  {
   "cell_type": "code",
   "execution_count": 52,
   "metadata": {},
   "outputs": [],
   "source": [
    "# Convert the x_train and y_train to numpy arrays \n",
    "x_train, y_train = np.array(x_train), np.array(y_train)"
   ]
  },
  {
   "cell_type": "code",
   "execution_count": 16,
   "metadata": {},
   "outputs": [],
   "source": [
    "def splitting_data(input_data, scaler=None):\n",
    "    dataset = input_data.values\n",
    "    if scaler is None:\n",
    "        scaler = MinMaxScaler(feature_range=(0, 1))\n",
    "        scaled_data = scaler.fit_transform(dataset)\n",
    "    else:\n",
    "        scaled_data = scaler.transform(dataset)\n",
    "    \n",
    "    x_data = []\n",
    "    y_data = []\n",
    "    \n",
    "    for i in range(60, len(scaled_data)):\n",
    "        x_data.append(scaled_data[i-60:i, 0])\n",
    "        y_data.append(scaled_data[i, 0])\n",
    "    \n",
    "    x_data, y_data = np.array(x_data), np.array(y_data)\n",
    "    x_data = np.reshape(x_data, (x_data.shape[0], x_data.shape[1], 1))\n",
    "    \n",
    "    return x_data, y_data, scaler"
   ]
  },
  {
   "cell_type": "code",
   "execution_count": 36,
   "metadata": {},
   "outputs": [],
   "source": [
    "x_train, y_train, scaler = splitting_data(train_data)"
   ]
  },
  {
   "cell_type": "code",
   "execution_count": 37,
   "metadata": {},
   "outputs": [
    {
     "data": {
      "text/plain": [
       "(13308, 60, 1)"
      ]
     },
     "execution_count": 37,
     "metadata": {},
     "output_type": "execute_result"
    }
   ],
   "source": [
    "x_train.shape"
   ]
  },
  {
   "cell_type": "code",
   "execution_count": 53,
   "metadata": {},
   "outputs": [
    {
     "data": {
      "text/plain": [
       "(13683, 60)"
      ]
     },
     "execution_count": 53,
     "metadata": {},
     "output_type": "execute_result"
    }
   ],
   "source": [
    "x_train.shape"
   ]
  },
  {
   "cell_type": "markdown",
   "metadata": {},
   "source": [
    "LSTM requires the data to be in this format: \"(number_of_samples, time_steps, number_of_features).\""
   ]
  },
  {
   "cell_type": "markdown",
   "metadata": {},
   "source": [
    "The 1 in the last index signifies that there's one feature per time step. "
   ]
  },
  {
   "cell_type": "code",
   "execution_count": 55,
   "metadata": {},
   "outputs": [],
   "source": [
    "# Reshape the data\n",
    "x_train = np.reshape(x_train, (x_train.shape[0], x_train.shape[1], 1))"
   ]
  },
  {
   "cell_type": "code",
   "execution_count": 56,
   "metadata": {},
   "outputs": [
    {
     "data": {
      "text/plain": [
       "(13683, 60, 1)"
      ]
     },
     "execution_count": 56,
     "metadata": {},
     "output_type": "execute_result"
    }
   ],
   "source": [
    "x_train.shape"
   ]
  },
  {
   "cell_type": "code",
   "execution_count": 38,
   "metadata": {},
   "outputs": [
    {
     "name": "stdout",
     "output_type": "stream",
     "text": [
      "13308/13308 [==============================] - 211s 16ms/step - loss: 4.2278e-04\n"
     ]
    },
    {
     "data": {
      "text/plain": [
       "<keras.callbacks.History at 0x10996056dc0>"
      ]
     },
     "execution_count": 38,
     "metadata": {},
     "output_type": "execute_result"
    }
   ],
   "source": [
    "# add to it validation\n",
    "from keras.models import Sequential\n",
    "from keras.layers import Dense, LSTM\n",
    "\n",
    "# Build the LSTM model\n",
    "model = Sequential()\n",
    "model.add(LSTM(128, return_sequences=True, input_shape= (x_train.shape[1], 1)))\n",
    "model.add(LSTM(64, return_sequences=False))\n",
    "model.add(Dense(25))\n",
    "model.add(Dense(1))\n",
    "\n",
    "# Compile the model\n",
    "model.compile(optimizer='adam', loss='mean_squared_error')\n",
    "\n",
    "# Train the model\n",
    "model.fit(x_train, y_train, batch_size=1, epochs=1)"
   ]
  },
  {
   "cell_type": "code",
   "execution_count": 45,
   "metadata": {},
   "outputs": [
    {
     "name": "stdout",
     "output_type": "stream",
     "text": [
      "2/2 [==============================] - 0s 9ms/step\n"
     ]
    }
   ],
   "source": [
    "x_test, y_test, scaler = splitting_data(test_data)\n",
    "\n",
    "# Get the models predicted price values \n",
    "predictions = model.predict(x_test)\n"
   ]
  },
  {
   "cell_type": "code",
   "execution_count": 46,
   "metadata": {},
   "outputs": [
    {
     "data": {
      "text/plain": [
       "array([[0.22992069],\n",
       "       [0.24523756],\n",
       "       [0.27099347],\n",
       "       [0.60677147],\n",
       "       [0.41635126],\n",
       "       [0.30729175],\n",
       "       [0.28715244],\n",
       "       [0.23585987],\n",
       "       [0.26998395],\n",
       "       [0.298118  ],\n",
       "       [0.30748594],\n",
       "       [0.32097194],\n",
       "       [0.3566603 ],\n",
       "       [0.3829615 ],\n",
       "       [0.353538  ],\n",
       "       [0.33810243],\n",
       "       [0.32377404],\n",
       "       [0.32028326],\n",
       "       [0.3066488 ],\n",
       "       [0.28372526],\n",
       "       [0.26509663],\n",
       "       [0.25472817],\n",
       "       [0.25201175],\n",
       "       [0.24539217],\n",
       "       [0.23863149],\n",
       "       [0.23430091],\n",
       "       [0.21760276],\n",
       "       [0.1879122 ],\n",
       "       [0.173186  ],\n",
       "       [0.16817898],\n",
       "       [0.1663479 ],\n",
       "       [0.14555162],\n",
       "       [0.12033993],\n",
       "       [0.0958252 ],\n",
       "       [0.06482869],\n",
       "       [0.0501128 ],\n",
       "       [0.06211944],\n",
       "       [0.07537559],\n",
       "       [0.05542634],\n",
       "       [0.04862256]], dtype=float32)"
      ]
     },
     "execution_count": 46,
     "metadata": {},
     "output_type": "execute_result"
    }
   ],
   "source": [
    "predictions"
   ]
  },
  {
   "cell_type": "code",
   "execution_count": 47,
   "metadata": {},
   "outputs": [],
   "source": [
    "predictions = scaler.inverse_transform(predictions)\n",
    "y_test_original = scaler.inverse_transform(y_test.reshape(-1, 1))"
   ]
  },
  {
   "cell_type": "code",
   "execution_count": 48,
   "metadata": {},
   "outputs": [
    {
     "data": {
      "text/plain": [
       "array([[226.73859],\n",
       "       [226.77782],\n",
       "       [226.84375],\n",
       "       [227.70334],\n",
       "       [227.21587],\n",
       "       [226.93666],\n",
       "       [226.88512],\n",
       "       [226.75381],\n",
       "       [226.84116],\n",
       "       [226.91318],\n",
       "       [226.93716],\n",
       "       [226.97168],\n",
       "       [227.06305],\n",
       "       [227.13039],\n",
       "       [227.05505],\n",
       "       [227.01555],\n",
       "       [226.97887],\n",
       "       [226.96992],\n",
       "       [226.93501],\n",
       "       [226.87633],\n",
       "       [226.82866],\n",
       "       [226.80211],\n",
       "       [226.79515],\n",
       "       [226.7782 ],\n",
       "       [226.7609 ],\n",
       "       [226.7498 ],\n",
       "       [226.70708],\n",
       "       [226.63106],\n",
       "       [226.59335],\n",
       "       [226.58055],\n",
       "       [226.57587],\n",
       "       [226.52261],\n",
       "       [226.45807],\n",
       "       [226.39531],\n",
       "       [226.31596],\n",
       "       [226.27827],\n",
       "       [226.30902],\n",
       "       [226.34297],\n",
       "       [226.2919 ],\n",
       "       [226.27448]], dtype=float32)"
      ]
     },
     "execution_count": 48,
     "metadata": {},
     "output_type": "execute_result"
    }
   ],
   "source": [
    "predictions"
   ]
  },
  {
   "cell_type": "code",
   "execution_count": 49,
   "metadata": {},
   "outputs": [
    {
     "data": {
      "text/plain": [
       "array([[226.81  ],\n",
       "       [226.92  ],\n",
       "       [228.71  ],\n",
       "       [226.55  ],\n",
       "       [226.81  ],\n",
       "       [226.92  ],\n",
       "       [226.575 ],\n",
       "       [226.92  ],\n",
       "       [226.92  ],\n",
       "       [226.92  ],\n",
       "       [227.    ],\n",
       "       [227.17  ],\n",
       "       [227.21  ],\n",
       "       [226.98  ],\n",
       "       [227.01  ],\n",
       "       [226.95  ],\n",
       "       [226.96  ],\n",
       "       [226.88  ],\n",
       "       [226.795 ],\n",
       "       [226.76  ],\n",
       "       [226.75  ],\n",
       "       [226.76  ],\n",
       "       [226.73  ],\n",
       "       [226.72  ],\n",
       "       [226.72  ],\n",
       "       [226.6398],\n",
       "       [226.53  ],\n",
       "       [226.54  ],\n",
       "       [226.54  ],\n",
       "       [226.54  ],\n",
       "       [226.43  ],\n",
       "       [226.365 ],\n",
       "       [226.3   ],\n",
       "       [226.19  ],\n",
       "       [226.2   ],\n",
       "       [226.3   ],\n",
       "       [226.33  ],\n",
       "       [226.1899],\n",
       "       [226.2462],\n",
       "       [226.15  ]])"
      ]
     },
     "execution_count": 49,
     "metadata": {},
     "output_type": "execute_result"
    }
   ],
   "source": [
    "y_test_original"
   ]
  },
  {
   "cell_type": "code",
   "execution_count": 50,
   "metadata": {},
   "outputs": [
    {
     "name": "stdout",
     "output_type": "stream",
     "text": [
      "2/2 [==============================] - 0s 10ms/step\n"
     ]
    },
    {
     "data": {
      "text/plain": [
       "0.37117990025747644"
      ]
     },
     "execution_count": 50,
     "metadata": {},
     "output_type": "execute_result"
    }
   ],
   "source": [
    "x_test, y_test, scaler = splitting_data(test_data)\n",
    "\n",
    "# Get the models predicted price values \n",
    "predictions = model.predict(x_test)\n",
    "predictions = scaler.inverse_transform(predictions)\n",
    "y_test_original = scaler.inverse_transform(y_test.reshape(-1, 1))\n",
    "\n",
    "\n",
    "# Get the root mean squared error (RMSE)\n",
    "rmse = np.sqrt(np.mean(((predictions - y_test_original) ** 2)))\n",
    "rmse"
   ]
  },
  {
   "cell_type": "code",
   "execution_count": 53,
   "metadata": {},
   "outputs": [
    {
     "data": {
      "text/html": [
       "<div>\n",
       "<style scoped>\n",
       "    .dataframe tbody tr th:only-of-type {\n",
       "        vertical-align: middle;\n",
       "    }\n",
       "\n",
       "    .dataframe tbody tr th {\n",
       "        vertical-align: top;\n",
       "    }\n",
       "\n",
       "    .dataframe thead th {\n",
       "        text-align: right;\n",
       "    }\n",
       "</style>\n",
       "<table border=\"1\" class=\"dataframe\">\n",
       "  <thead>\n",
       "    <tr style=\"text-align: right;\">\n",
       "      <th></th>\n",
       "      <th>close</th>\n",
       "    </tr>\n",
       "  </thead>\n",
       "  <tbody>\n",
       "    <tr>\n",
       "      <th>100</th>\n",
       "      <td>226.1400</td>\n",
       "    </tr>\n",
       "    <tr>\n",
       "      <th>101</th>\n",
       "      <td>226.1000</td>\n",
       "    </tr>\n",
       "    <tr>\n",
       "      <th>102</th>\n",
       "      <td>226.0400</td>\n",
       "    </tr>\n",
       "    <tr>\n",
       "      <th>103</th>\n",
       "      <td>225.9757</td>\n",
       "    </tr>\n",
       "    <tr>\n",
       "      <th>104</th>\n",
       "      <td>225.9551</td>\n",
       "    </tr>\n",
       "    <tr>\n",
       "      <th>...</th>\n",
       "      <td>...</td>\n",
       "    </tr>\n",
       "    <tr>\n",
       "      <th>13463</th>\n",
       "      <td>208.7765</td>\n",
       "    </tr>\n",
       "    <tr>\n",
       "      <th>13464</th>\n",
       "      <td>208.2804</td>\n",
       "    </tr>\n",
       "    <tr>\n",
       "      <th>13465</th>\n",
       "      <td>209.0543</td>\n",
       "    </tr>\n",
       "    <tr>\n",
       "      <th>13466</th>\n",
       "      <td>209.3420</td>\n",
       "    </tr>\n",
       "    <tr>\n",
       "      <th>13467</th>\n",
       "      <td>210.1953</td>\n",
       "    </tr>\n",
       "  </tbody>\n",
       "</table>\n",
       "<p>13368 rows × 1 columns</p>\n",
       "</div>"
      ],
      "text/plain": [
       "          close\n",
       "100    226.1400\n",
       "101    226.1000\n",
       "102    226.0400\n",
       "103    225.9757\n",
       "104    225.9551\n",
       "...         ...\n",
       "13463  208.7765\n",
       "13464  208.2804\n",
       "13465  209.0543\n",
       "13466  209.3420\n",
       "13467  210.1953\n",
       "\n",
       "[13368 rows x 1 columns]"
      ]
     },
     "execution_count": 53,
     "metadata": {},
     "output_type": "execute_result"
    }
   ],
   "source": [
    "train_data"
   ]
  },
  {
   "cell_type": "code",
   "execution_count": 52,
   "metadata": {},
   "outputs": [
    {
     "data": {
      "image/png": "[encoded data removed]",
      "text/plain": [
       "<Figure size 1600x600 with 1 Axes>"
      ]
     },
     "metadata": {},
     "output_type": "display_data"
    }
   ],
   "source": [
    "valid = test_data[60:].copy()  # Slice the data to match the length of predictions\n",
    "valid['Predictions'] = predictions\n",
    "\n",
    "# Plot the training data and validation data (predictions vs. actuals)\n",
    "plt.figure(figsize=(16, 6))\n",
    "plt.title('Stock Price Prediction', fontsize=18)\n",
    "plt.xlabel('Date', fontsize=18)\n",
    "plt.ylabel('Close Price USD ($)', fontsize=18)\n",
    "\n",
    "# Plotting the actual training data\n",
    "plt.plot(train_data.index, train_data['close'], label='Train', linewidth=2)\n",
    "\n",
    "# Plotting the actual and predicted values for validation\n",
    "plt.plot(valid.index, valid['close'], label='Actual', linewidth=2)\n",
    "plt.plot(valid.index, valid['Predictions'], label='Predictions', linestyle='--', linewidth=2)\n",
    "\n",
    "# Add legend\n",
    "plt.legend(loc='lower right')\n",
    "\n",
    "# Show the plot\n",
    "plt.show()"
   ]
  },
  {
   "cell_type": "code",
   "execution_count": 59,
   "metadata": {},
   "outputs": [
    {
     "name": "stdout",
     "output_type": "stream",
     "text": [
      "13683/13683 [==============================] - 377s 27ms/step - loss: 2.4889e-04\n"
     ]
    },
    {
     "data": {
      "text/plain": [
       "<keras.src.callbacks.History at 0x184bcefac70>"
      ]
     },
     "execution_count": 59,
     "metadata": {},
     "output_type": "execute_result"
    }
   ],
   "source": [
    "from keras.models import Sequential\n",
    "from keras.layers import Dense, LSTM\n",
    "\n",
    "# Build the LSTM model\n",
    "model = Sequential()\n",
    "model.add(LSTM(128, return_sequences=True, input_shape= (x_train.shape[1], 1)))\n",
    "model.add(LSTM(64, return_sequences=False))\n",
    "model.add(Dense(25))\n",
    "model.add(Dense(1))\n",
    "\n",
    "# Compile the model\n",
    "model.compile(optimizer='adam', loss='mean_squared_error')\n",
    "\n",
    "# Train the model\n",
    "model.fit(x_train, y_train, batch_size=1, epochs=1)"
   ]
  },
  {
   "cell_type": "code",
   "execution_count": 60,
   "metadata": {},
   "outputs": [
    {
     "name": "stdout",
     "output_type": "stream",
     "text": [
      "23/23 [==============================] - 2s 36ms/step\n"
     ]
    },
    {
     "data": {
      "text/plain": [
       "0.6978833321540528"
      ]
     },
     "execution_count": 60,
     "metadata": {},
     "output_type": "execute_result"
    }
   ],
   "source": [
    "# Create the testing data set\n",
    "# Create a new array containing scaled values from index 1543 to 2002 \n",
    "test_data = scaled_data[training_data_len - 60: , :]\n",
    "# Create the data sets x_test and y_test\n",
    "x_test = []\n",
    "y_test = dataset[training_data_len:, :]\n",
    "for i in range(60, len(test_data)):\n",
    "    x_test.append(test_data[i-60:i, 0])\n",
    "    \n",
    "# Convert the data to a numpy array\n",
    "x_test = np.array(x_test)\n",
    "\n",
    "# Reshape the data\n",
    "x_test = np.reshape(x_test, (x_test.shape[0], x_test.shape[1], 1 ))\n",
    "\n",
    "# Get the models predicted price values \n",
    "predictions = model.predict(x_test)\n",
    "predictions = scaler.inverse_transform(predictions)\n",
    "\n",
    "# Get the root mean squared error (RMSE)\n",
    "rmse = np.sqrt(np.mean(((predictions - y_test) ** 2)))\n",
    "rmse"
   ]
  },
  {
   "cell_type": "code",
   "execution_count": 65,
   "metadata": {},
   "outputs": [
    {
     "name": "stderr",
     "output_type": "stream",
     "text": [
      "C:\\Users\\Portable\\AppData\\Local\\Temp\\ipykernel_2856\\2269485014.py:4: SettingWithCopyWarning: \n",
      "A value is trying to be set on a copy of a slice from a DataFrame.\n",
      "Try using .loc[row_indexer,col_indexer] = value instead\n",
      "\n",
      "See the caveats in the documentation: https://pandas.pydata.org/pandas-docs/stable/user_guide/indexing.html#returning-a-view-versus-a-copy\n",
      "  valid['Predictions'] = predictions\n"
     ]
    },
    {
     "data": {
      "image/png": "[encoded data removed]",
      "text/plain": [
       "<Figure size 1600x600 with 1 Axes>"
      ]
     },
     "metadata": {},
     "output_type": "display_data"
    }
   ],
   "source": [
    "# Plot the data\n",
    "train = data[:training_data_len]\n",
    "valid = data[training_data_len:]\n",
    "valid['Predictions'] = predictions\n",
    "# Visualize the data\n",
    "plt.figure(figsize=(16,6))\n",
    "plt.title('Model')\n",
    "plt.xlabel('Date', fontsize=18)\n",
    "plt.ylabel('Close Price USD ($)', fontsize=18)\n",
    "plt.plot(train['close'])\n",
    "plt.plot(valid[['close', 'Predictions']])\n",
    "plt.legend(['Train', 'Val', 'Predictions'], loc='lower right')\n",
    "plt.show()"
   ]
  },
  {
   "cell_type": "code",
   "execution_count": 78,
   "metadata": {},
   "outputs": [],
   "source": [
    "from pathlib import Path\n",
    "from dataclasses import dataclass\n",
    "from src.StockPricePrediction import logger"
   ]
  },
  {
   "cell_type": "code",
   "execution_count": 79,
   "metadata": {},
   "outputs": [],
   "source": [
    "from src.StockPricePrediction.utils.common import read_yaml, create_directories\n",
    "from src.StockPricePrediction.constants import *"
   ]
  },
  {
   "cell_type": "code",
   "execution_count": 80,
   "metadata": {},
   "outputs": [],
   "source": [
    "@dataclass(frozen=True)\n",
    "class ModelTrainingConfig:\n",
    "    data_path: Path\n",
    "    test_size: float\n",
    "    learning_rate: float\n",
    "    epochs: int\n",
    "    batch_size: int\n",
    "    lstm_units: list\n",
    "    dense_units: list"
   ]
  },
  {
   "cell_type": "code",
   "execution_count": null,
   "metadata": {},
   "outputs": [],
   "source": [
    "class ModelTraining:\n",
    "    def __init__(self, config: ModelTrainingConfig):\n",
    "        self.config = config\n",
    "        self.scaler = MinMaxScaler(feature_range=(0, 1))\n",
    "        self.model = None\n",
    "        \n",
    "    def build_model(self):\n",
    "        try:\n",
    "            model = Sequential()\n",
    "            # Add LSTM layers\n",
    "            for units in self.config.lstm_units:\n",
    "                model.add(LSTM(units, return_sequences=(units != self.config.lstm_units[-1])))\n",
    "            # Add dense layers\n",
    "            for units in self.config.dense_units:\n",
    "                model.add(Dense(units))\n",
    "            # Compile the model\n",
    "            model.compile(optimizer='adam', loss='mean_squared_error')\n",
    "            self.model = model\n",
    "            logger.info(\"Model built successfully.\")\n",
    "            return model\n",
    "        except Exception as e:\n",
    "            logger.error(f\"Error during model building: {e}\")\n",
    "            raise\n",
    "        return None"
   ]
  },
  {
   "cell_type": "code",
   "execution_count": 87,
   "metadata": {},
   "outputs": [],
   "source": [
    "class ConfigurationManager:\n",
    "    def __init__(self, config_filepath: Path):\n",
    "        self.config = read_yaml(config_filepath)\n",
    "\n",
    "    def get_model_training_config(self) -> ModelTrainingConfig:\n",
    "        config = self.config['model_params']\n",
    "\n",
    "        model_training_config = ModelTrainingConfig(\n",
    "            data_path=Path(config['data_path']),\n",
    "            test_size=config['test_size'],\n",
    "            learning_rate=config['learning_rate'],\n",
    "            epochs=config['epochs'],\n",
    "            batch_size=config['batch_size'],\n",
    "            lstm_units=config['lstm_units'],\n",
    "            dense_units=config['dense_units'],\n",
    "        )\n",
    "\n",
    "        return model_training_config"
   ]
  },
  {
   "cell_type": "code",
   "execution_count": null,
   "metadata": {},
   "outputs": [],
   "source": []
  },
  {
   "cell_type": "code",
   "execution_count": 88,
   "metadata": {},
   "outputs": [
    {
     "name": "stdout",
     "output_type": "stream",
     "text": [
      "[2024-11-22 20:14:47,723: INFO: common: yaml file: config\\config.yaml loaded successfully]\n",
      "[2024-11-22 20:14:47,757: INFO: 2197671697: Model built successfully.]\n"
     ]
    },
    {
     "data": {
      "text/plain": [
       "<keras.src.engine.sequential.Sequential at 0x184c5c14580>"
      ]
     },
     "execution_count": 88,
     "metadata": {},
     "output_type": "execute_result"
    }
   ],
   "source": [
    "config_manager = ConfigurationManager(config_filepath=CONFIG_FILE_PATH)  \n",
    "model_training_config = config_manager.get_model_training_config()\n",
    "\n",
    "model_training = ModelTraining(config=model_training_config)\n",
    "model = model_training.build_model()\n",
    "model"
   ]
  },
  {
   "cell_type": "code",
   "execution_count": 95,
   "metadata": {},
   "outputs": [
    {
     "data": {
      "text/plain": [
       "{'name': 'sequential_3',\n",
       " 'layers': [{'module': 'keras.layers',\n",
       "   'class_name': 'LSTM',\n",
       "   'config': {'name': 'lstm_6',\n",
       "    'trainable': True,\n",
       "    'dtype': 'float32',\n",
       "    'return_sequences': True,\n",
       "    'return_state': False,\n",
       "    'go_backwards': False,\n",
       "    'stateful': False,\n",
       "    'unroll': False,\n",
       "    'time_major': False,\n",
       "    'units': 128,\n",
       "    'activation': 'tanh',\n",
       "    'recurrent_activation': 'sigmoid',\n",
       "    'use_bias': True,\n",
       "    'kernel_initializer': {'module': 'keras.initializers',\n",
       "     'class_name': 'GlorotUniform',\n",
       "     'config': {'seed': None},\n",
       "     'registered_name': None},\n",
       "    'recurrent_initializer': {'module': 'keras.initializers',\n",
       "     'class_name': 'Orthogonal',\n",
       "     'config': {'gain': 1.0, 'seed': None},\n",
       "     'registered_name': None},\n",
       "    'bias_initializer': {'module': 'keras.initializers',\n",
       "     'class_name': 'Zeros',\n",
       "     'config': {},\n",
       "     'registered_name': None},\n",
       "    'unit_forget_bias': True,\n",
       "    'kernel_regularizer': None,\n",
       "    'recurrent_regularizer': None,\n",
       "    'bias_regularizer': None,\n",
       "    'activity_regularizer': None,\n",
       "    'kernel_constraint': None,\n",
       "    'recurrent_constraint': None,\n",
       "    'bias_constraint': None,\n",
       "    'dropout': 0.0,\n",
       "    'recurrent_dropout': 0.0,\n",
       "    'implementation': 2},\n",
       "   'registered_name': None},\n",
       "  {'module': 'keras.layers',\n",
       "   'class_name': 'LSTM',\n",
       "   'config': {'name': 'lstm_7',\n",
       "    'trainable': True,\n",
       "    'dtype': 'float32',\n",
       "    'return_sequences': False,\n",
       "    'return_state': False,\n",
       "    'go_backwards': False,\n",
       "    'stateful': False,\n",
       "    'unroll': False,\n",
       "    'time_major': False,\n",
       "    'units': 64,\n",
       "    'activation': 'tanh',\n",
       "    'recurrent_activation': 'sigmoid',\n",
       "    'use_bias': True,\n",
       "    'kernel_initializer': {'module': 'keras.initializers',\n",
       "     'class_name': 'GlorotUniform',\n",
       "     'config': {'seed': None},\n",
       "     'registered_name': None},\n",
       "    'recurrent_initializer': {'module': 'keras.initializers',\n",
       "     'class_name': 'Orthogonal',\n",
       "     'config': {'gain': 1.0, 'seed': None},\n",
       "     'registered_name': None},\n",
       "    'bias_initializer': {'module': 'keras.initializers',\n",
       "     'class_name': 'Zeros',\n",
       "     'config': {},\n",
       "     'registered_name': None},\n",
       "    'unit_forget_bias': True,\n",
       "    'kernel_regularizer': None,\n",
       "    'recurrent_regularizer': None,\n",
       "    'bias_regularizer': None,\n",
       "    'activity_regularizer': None,\n",
       "    'kernel_constraint': None,\n",
       "    'recurrent_constraint': None,\n",
       "    'bias_constraint': None,\n",
       "    'dropout': 0.0,\n",
       "    'recurrent_dropout': 0.0,\n",
       "    'implementation': 2},\n",
       "   'registered_name': None},\n",
       "  {'module': 'keras.layers',\n",
       "   'class_name': 'Dense',\n",
       "   'config': {'name': 'dense_6',\n",
       "    'trainable': True,\n",
       "    'dtype': 'float32',\n",
       "    'units': 25,\n",
       "    'activation': 'linear',\n",
       "    'use_bias': True,\n",
       "    'kernel_initializer': {'module': 'keras.initializers',\n",
       "     'class_name': 'GlorotUniform',\n",
       "     'config': {'seed': None},\n",
       "     'registered_name': None},\n",
       "    'bias_initializer': {'module': 'keras.initializers',\n",
       "     'class_name': 'Zeros',\n",
       "     'config': {},\n",
       "     'registered_name': None},\n",
       "    'kernel_regularizer': None,\n",
       "    'bias_regularizer': None,\n",
       "    'activity_regularizer': None,\n",
       "    'kernel_constraint': None,\n",
       "    'bias_constraint': None},\n",
       "   'registered_name': None},\n",
       "  {'module': 'keras.layers',\n",
       "   'class_name': 'Dense',\n",
       "   'config': {'name': 'dense_7',\n",
       "    'trainable': True,\n",
       "    'dtype': 'float32',\n",
       "    'units': 1,\n",
       "    'activation': 'linear',\n",
       "    'use_bias': True,\n",
       "    'kernel_initializer': {'module': 'keras.initializers',\n",
       "     'class_name': 'GlorotUniform',\n",
       "     'config': {'seed': None},\n",
       "     'registered_name': None},\n",
       "    'bias_initializer': {'module': 'keras.initializers',\n",
       "     'class_name': 'Zeros',\n",
       "     'config': {},\n",
       "     'registered_name': None},\n",
       "    'kernel_regularizer': None,\n",
       "    'bias_regularizer': None,\n",
       "    'activity_regularizer': None,\n",
       "    'kernel_constraint': None,\n",
       "    'bias_constraint': None},\n",
       "   'registered_name': None}]}"
      ]
     },
     "execution_count": 95,
     "metadata": {},
     "output_type": "execute_result"
    }
   ],
   "source": [
    "config = model.get_config()\n",
    "config"
   ]
  },
  {
   "cell_type": "code",
   "execution_count": null,
   "metadata": {},
   "outputs": [],
   "source": []
  }
 ],
 "metadata": {
  "kernelspec": {
   "display_name": "MLOpsProject",
   "language": "python",
   "name": "python3"
  },
  "language_info": {
   "codemirror_mode": {
    "name": "ipython",
    "version": 3
   },
   "file_extension": ".py",
   "mimetype": "text/x-python",
   "name": "python",
   "nbconvert_exporter": "python",
   "pygments_lexer": "ipython3",
   "version": "3.8.20"
  }
 },
 "nbformat": 4,
 "nbformat_minor": 2
}
