{
 "cells": [
  {
   "cell_type": "code",
   "execution_count": 62,
   "metadata": {},
   "outputs": [],
   "source": [
    "import numpy as np\n",
    "import os\n",
    "import matplotlib.pyplot as plt"
   ]
  },
  {
   "cell_type": "code",
   "execution_count": 2,
   "metadata": {},
   "outputs": [
    {
     "data": {
      "text/plain": [
       "'c:\\\\Users\\\\Portable\\\\OneDrive\\\\Desktop\\\\Automated-Stock-Price-Prediction-Pipeline-A-Complete-MLOps-Lifecycle\\\\research'"
      ]
     },
     "execution_count": 2,
     "metadata": {},
     "output_type": "execute_result"
    }
   ],
   "source": [
    "%pwd"
   ]
  },
  {
   "cell_type": "code",
   "execution_count": 3,
   "metadata": {},
   "outputs": [],
   "source": [
    "os.chdir(\"../\")"
   ]
  },
  {
   "cell_type": "code",
   "execution_count": 4,
   "metadata": {},
   "outputs": [
    {
     "data": {
      "text/plain": [
       "'c:\\\\Users\\\\Portable\\\\OneDrive\\\\Desktop\\\\Automated-Stock-Price-Prediction-Pipeline-A-Complete-MLOps-Lifecycle'"
      ]
     },
     "execution_count": 4,
     "metadata": {},
     "output_type": "execute_result"
    }
   ],
   "source": [
    "%pwd"
   ]
  },
  {
   "cell_type": "code",
   "execution_count": 5,
   "metadata": {},
   "outputs": [],
   "source": [
    "import pandas as pd"
   ]
  },
  {
   "cell_type": "code",
   "execution_count": 11,
   "metadata": {},
   "outputs": [],
   "source": [
    "data = pd.read_csv(r\"data\\processed\\processed_stock_data.csv\")"
   ]
  },
  {
   "cell_type": "code",
   "execution_count": 12,
   "metadata": {},
   "outputs": [
    {
     "data": {
      "text/html": [
       "<div>\n",
       "<style scoped>\n",
       "    .dataframe tbody tr th:only-of-type {\n",
       "        vertical-align: middle;\n",
       "    }\n",
       "\n",
       "    .dataframe tbody tr th {\n",
       "        vertical-align: top;\n",
       "    }\n",
       "\n",
       "    .dataframe thead th {\n",
       "        text-align: right;\n",
       "    }\n",
       "</style>\n",
       "<table border=\"1\" class=\"dataframe\">\n",
       "  <thead>\n",
       "    <tr style=\"text-align: right;\">\n",
       "      <th></th>\n",
       "      <th>date</th>\n",
       "      <th>open</th>\n",
       "      <th>high</th>\n",
       "      <th>low</th>\n",
       "      <th>close</th>\n",
       "      <th>volume</th>\n",
       "      <th>close_normalized</th>\n",
       "      <th>SMA_20</th>\n",
       "      <th>EMA_20</th>\n",
       "      <th>close_lag1</th>\n",
       "      <th>close_lag3</th>\n",
       "    </tr>\n",
       "  </thead>\n",
       "  <tbody>\n",
       "    <tr>\n",
       "      <th>0</th>\n",
       "      <td>2024-11-21 19:59:00</td>\n",
       "      <td>222.2800</td>\n",
       "      <td>222.4000</td>\n",
       "      <td>222.2800</td>\n",
       "      <td>222.4000</td>\n",
       "      <td>70</td>\n",
       "      <td>1.907680</td>\n",
       "      <td>211.309072</td>\n",
       "      <td>222.400000</td>\n",
       "      <td>211.327118</td>\n",
       "      <td>211.324528</td>\n",
       "    </tr>\n",
       "    <tr>\n",
       "      <th>1</th>\n",
       "      <td>2024-11-21 19:58:00</td>\n",
       "      <td>222.4000</td>\n",
       "      <td>222.4000</td>\n",
       "      <td>222.4000</td>\n",
       "      <td>222.4000</td>\n",
       "      <td>20</td>\n",
       "      <td>1.907680</td>\n",
       "      <td>211.309072</td>\n",
       "      <td>222.400000</td>\n",
       "      <td>222.400000</td>\n",
       "      <td>211.324528</td>\n",
       "    </tr>\n",
       "    <tr>\n",
       "      <th>2</th>\n",
       "      <td>2024-11-21 19:55:00</td>\n",
       "      <td>221.8100</td>\n",
       "      <td>221.8100</td>\n",
       "      <td>221.8100</td>\n",
       "      <td>221.8100</td>\n",
       "      <td>3</td>\n",
       "      <td>1.806022</td>\n",
       "      <td>211.309072</td>\n",
       "      <td>222.343810</td>\n",
       "      <td>222.400000</td>\n",
       "      <td>211.324528</td>\n",
       "    </tr>\n",
       "    <tr>\n",
       "      <th>3</th>\n",
       "      <td>2024-11-21 19:49:00</td>\n",
       "      <td>221.8101</td>\n",
       "      <td>221.8101</td>\n",
       "      <td>221.8101</td>\n",
       "      <td>221.8101</td>\n",
       "      <td>4</td>\n",
       "      <td>1.806039</td>\n",
       "      <td>211.309072</td>\n",
       "      <td>222.292980</td>\n",
       "      <td>221.810000</td>\n",
       "      <td>222.400000</td>\n",
       "    </tr>\n",
       "    <tr>\n",
       "      <th>4</th>\n",
       "      <td>2024-11-21 19:46:00</td>\n",
       "      <td>221.8100</td>\n",
       "      <td>222.3852</td>\n",
       "      <td>221.8100</td>\n",
       "      <td>222.2600</td>\n",
       "      <td>21</td>\n",
       "      <td>1.883558</td>\n",
       "      <td>211.309072</td>\n",
       "      <td>222.289839</td>\n",
       "      <td>221.810100</td>\n",
       "      <td>222.400000</td>\n",
       "    </tr>\n",
       "    <tr>\n",
       "      <th>...</th>\n",
       "      <td>...</td>\n",
       "      <td>...</td>\n",
       "      <td>...</td>\n",
       "      <td>...</td>\n",
       "      <td>...</td>\n",
       "      <td>...</td>\n",
       "      <td>...</td>\n",
       "      <td>...</td>\n",
       "      <td>...</td>\n",
       "      <td>...</td>\n",
       "      <td>...</td>\n",
       "    </tr>\n",
       "    <tr>\n",
       "      <th>14461</th>\n",
       "      <td>2024-10-23 04:04:00</td>\n",
       "      <td>230.0580</td>\n",
       "      <td>230.1770</td>\n",
       "      <td>230.0282</td>\n",
       "      <td>230.1770</td>\n",
       "      <td>28</td>\n",
       "      <td>3.247675</td>\n",
       "      <td>230.126900</td>\n",
       "      <td>230.064822</td>\n",
       "      <td>230.038100</td>\n",
       "      <td>229.978600</td>\n",
       "    </tr>\n",
       "    <tr>\n",
       "      <th>14462</th>\n",
       "      <td>2024-10-23 04:03:00</td>\n",
       "      <td>230.0877</td>\n",
       "      <td>230.0877</td>\n",
       "      <td>230.0877</td>\n",
       "      <td>230.0877</td>\n",
       "      <td>1</td>\n",
       "      <td>3.232288</td>\n",
       "      <td>230.119460</td>\n",
       "      <td>230.067001</td>\n",
       "      <td>230.177000</td>\n",
       "      <td>229.839700</td>\n",
       "    </tr>\n",
       "    <tr>\n",
       "      <th>14463</th>\n",
       "      <td>2024-10-23 04:02:00</td>\n",
       "      <td>230.0877</td>\n",
       "      <td>230.0877</td>\n",
       "      <td>230.0877</td>\n",
       "      <td>230.0877</td>\n",
       "      <td>2</td>\n",
       "      <td>3.232288</td>\n",
       "      <td>230.113505</td>\n",
       "      <td>230.068972</td>\n",
       "      <td>230.087700</td>\n",
       "      <td>230.038100</td>\n",
       "    </tr>\n",
       "    <tr>\n",
       "      <th>14464</th>\n",
       "      <td>2024-10-23 04:01:00</td>\n",
       "      <td>230.0381</td>\n",
       "      <td>230.0778</td>\n",
       "      <td>230.0183</td>\n",
       "      <td>230.0183</td>\n",
       "      <td>9</td>\n",
       "      <td>3.220330</td>\n",
       "      <td>230.094160</td>\n",
       "      <td>230.064146</td>\n",
       "      <td>230.087700</td>\n",
       "      <td>230.177000</td>\n",
       "    </tr>\n",
       "    <tr>\n",
       "      <th>14465</th>\n",
       "      <td>2024-10-23 04:00:00</td>\n",
       "      <td>230.3457</td>\n",
       "      <td>230.3457</td>\n",
       "      <td>228.2622</td>\n",
       "      <td>228.2622</td>\n",
       "      <td>34</td>\n",
       "      <td>2.917751</td>\n",
       "      <td>229.987010</td>\n",
       "      <td>229.892532</td>\n",
       "      <td>230.018300</td>\n",
       "      <td>230.087700</td>\n",
       "    </tr>\n",
       "  </tbody>\n",
       "</table>\n",
       "<p>14466 rows × 11 columns</p>\n",
       "</div>"
      ],
      "text/plain": [
       "                      date      open      high       low     close  volume  \\\n",
       "0      2024-11-21 19:59:00  222.2800  222.4000  222.2800  222.4000      70   \n",
       "1      2024-11-21 19:58:00  222.4000  222.4000  222.4000  222.4000      20   \n",
       "2      2024-11-21 19:55:00  221.8100  221.8100  221.8100  221.8100       3   \n",
       "3      2024-11-21 19:49:00  221.8101  221.8101  221.8101  221.8101       4   \n",
       "4      2024-11-21 19:46:00  221.8100  222.3852  221.8100  222.2600      21   \n",
       "...                    ...       ...       ...       ...       ...     ...   \n",
       "14461  2024-10-23 04:04:00  230.0580  230.1770  230.0282  230.1770      28   \n",
       "14462  2024-10-23 04:03:00  230.0877  230.0877  230.0877  230.0877       1   \n",
       "14463  2024-10-23 04:02:00  230.0877  230.0877  230.0877  230.0877       2   \n",
       "14464  2024-10-23 04:01:00  230.0381  230.0778  230.0183  230.0183       9   \n",
       "14465  2024-10-23 04:00:00  230.3457  230.3457  228.2622  228.2622      34   \n",
       "\n",
       "       close_normalized      SMA_20      EMA_20  close_lag1  close_lag3  \n",
       "0              1.907680  211.309072  222.400000  211.327118  211.324528  \n",
       "1              1.907680  211.309072  222.400000  222.400000  211.324528  \n",
       "2              1.806022  211.309072  222.343810  222.400000  211.324528  \n",
       "3              1.806039  211.309072  222.292980  221.810000  222.400000  \n",
       "4              1.883558  211.309072  222.289839  221.810100  222.400000  \n",
       "...                 ...         ...         ...         ...         ...  \n",
       "14461          3.247675  230.126900  230.064822  230.038100  229.978600  \n",
       "14462          3.232288  230.119460  230.067001  230.177000  229.839700  \n",
       "14463          3.232288  230.113505  230.068972  230.087700  230.038100  \n",
       "14464          3.220330  230.094160  230.064146  230.087700  230.177000  \n",
       "14465          2.917751  229.987010  229.892532  230.018300  230.087700  \n",
       "\n",
       "[14466 rows x 11 columns]"
      ]
     },
     "execution_count": 12,
     "metadata": {},
     "output_type": "execute_result"
    }
   ],
   "source": [
    "data"
   ]
  },
  {
   "cell_type": "code",
   "execution_count": 16,
   "metadata": {},
   "outputs": [
    {
     "data": {
      "text/html": [
       "<div>\n",
       "<style scoped>\n",
       "    .dataframe tbody tr th:only-of-type {\n",
       "        vertical-align: middle;\n",
       "    }\n",
       "\n",
       "    .dataframe tbody tr th {\n",
       "        vertical-align: top;\n",
       "    }\n",
       "\n",
       "    .dataframe thead th {\n",
       "        text-align: right;\n",
       "    }\n",
       "</style>\n",
       "<table border=\"1\" class=\"dataframe\">\n",
       "  <thead>\n",
       "    <tr style=\"text-align: right;\">\n",
       "      <th></th>\n",
       "      <th>close</th>\n",
       "    </tr>\n",
       "  </thead>\n",
       "  <tbody>\n",
       "    <tr>\n",
       "      <th>0</th>\n",
       "      <td>222.4000</td>\n",
       "    </tr>\n",
       "    <tr>\n",
       "      <th>1</th>\n",
       "      <td>222.4000</td>\n",
       "    </tr>\n",
       "    <tr>\n",
       "      <th>2</th>\n",
       "      <td>221.8100</td>\n",
       "    </tr>\n",
       "    <tr>\n",
       "      <th>3</th>\n",
       "      <td>221.8101</td>\n",
       "    </tr>\n",
       "    <tr>\n",
       "      <th>4</th>\n",
       "      <td>222.2600</td>\n",
       "    </tr>\n",
       "    <tr>\n",
       "      <th>...</th>\n",
       "      <td>...</td>\n",
       "    </tr>\n",
       "    <tr>\n",
       "      <th>14461</th>\n",
       "      <td>230.1770</td>\n",
       "    </tr>\n",
       "    <tr>\n",
       "      <th>14462</th>\n",
       "      <td>230.0877</td>\n",
       "    </tr>\n",
       "    <tr>\n",
       "      <th>14463</th>\n",
       "      <td>230.0877</td>\n",
       "    </tr>\n",
       "    <tr>\n",
       "      <th>14464</th>\n",
       "      <td>230.0183</td>\n",
       "    </tr>\n",
       "    <tr>\n",
       "      <th>14465</th>\n",
       "      <td>228.2622</td>\n",
       "    </tr>\n",
       "  </tbody>\n",
       "</table>\n",
       "<p>14466 rows × 1 columns</p>\n",
       "</div>"
      ],
      "text/plain": [
       "          close\n",
       "0      222.4000\n",
       "1      222.4000\n",
       "2      221.8100\n",
       "3      221.8101\n",
       "4      222.2600\n",
       "...         ...\n",
       "14461  230.1770\n",
       "14462  230.0877\n",
       "14463  230.0877\n",
       "14464  230.0183\n",
       "14465  228.2622\n",
       "\n",
       "[14466 rows x 1 columns]"
      ]
     },
     "execution_count": 16,
     "metadata": {},
     "output_type": "execute_result"
    }
   ],
   "source": [
    "# Create a new dataframe with only the 'Close column \n",
    "close_data = data.filter(['close'])\n",
    "close_data"
   ]
  },
  {
   "cell_type": "code",
   "execution_count": 17,
   "metadata": {},
   "outputs": [],
   "source": [
    "# Convert the dataframe to a numpy array\n",
    "dataset = close_data.values"
   ]
  },
  {
   "cell_type": "code",
   "execution_count": 18,
   "metadata": {},
   "outputs": [
    {
     "data": {
      "text/plain": [
       "array([[222.4   ],\n",
       "       [222.4   ],\n",
       "       [221.81  ],\n",
       "       ...,\n",
       "       [230.0877],\n",
       "       [230.0183],\n",
       "       [228.2622]])"
      ]
     },
     "execution_count": 18,
     "metadata": {},
     "output_type": "execute_result"
    }
   ],
   "source": [
    "dataset"
   ]
  },
  {
   "cell_type": "code",
   "execution_count": 22,
   "metadata": {},
   "outputs": [
    {
     "data": {
      "text/plain": [
       "13743"
      ]
     },
     "execution_count": 22,
     "metadata": {},
     "output_type": "execute_result"
    }
   ],
   "source": [
    "# Get the number of rows to train the model on\n",
    "training_data_len = int(np.ceil( len(dataset) * .95 ))\n",
    "training_data_len"
   ]
  },
  {
   "cell_type": "code",
   "execution_count": 24,
   "metadata": {},
   "outputs": [
    {
     "data": {
      "text/plain": [
       "array([[0.67159581],\n",
       "       [0.67159581],\n",
       "       [0.65223796],\n",
       "       ...,\n",
       "       [0.92382852],\n",
       "       [0.92155151],\n",
       "       [0.86393404]])"
      ]
     },
     "execution_count": 24,
     "metadata": {},
     "output_type": "execute_result"
    }
   ],
   "source": [
    "# Scale the data\n",
    "from sklearn.preprocessing import MinMaxScaler\n",
    "\n",
    "scaler = MinMaxScaler(feature_range=(0,1))\n",
    "scaled_data = scaler.fit_transform(dataset)\n",
    "\n",
    "scaled_data"
   ]
  },
  {
   "cell_type": "code",
   "execution_count": 25,
   "metadata": {},
   "outputs": [],
   "source": [
    "# Create the training data set \n",
    "# Create the scaled training data set\n",
    "train_data = scaled_data[0:int(training_data_len), :]"
   ]
  },
  {
   "cell_type": "code",
   "execution_count": 28,
   "metadata": {},
   "outputs": [
    {
     "data": {
      "text/plain": [
       "13743"
      ]
     },
     "execution_count": 28,
     "metadata": {},
     "output_type": "execute_result"
    }
   ],
   "source": [
    "len(train_data)"
   ]
  },
  {
   "cell_type": "code",
   "execution_count": 50,
   "metadata": {},
   "outputs": [],
   "source": [
    "# Split the data into x_train and y_train data sets\n",
    "x_train = []\n",
    "y_train = []"
   ]
  },
  {
   "cell_type": "code",
   "execution_count": 51,
   "metadata": {},
   "outputs": [
    {
     "name": "stdout",
     "output_type": "stream",
     "text": [
      "[array([0.67159581, 0.67159581, 0.65223796, 0.65224124, 0.66700242,\n",
      "       0.65256606, 0.66536193, 0.66569003, 0.60925699, 0.66831482,\n",
      "       0.66831482, 0.66831482, 0.6729082 , 0.60925699, 0.67159581,\n",
      "       0.67126771, 0.66831482, 0.67159581, 0.67258011, 0.67159581,\n",
      "       0.67159581, 0.67159581, 0.6729082 , 0.67159581, 0.66831482,\n",
      "       0.6729082 , 0.67258011, 0.65847513, 0.66831482, 0.6729082 ,\n",
      "       0.65847185, 0.6729082 , 0.6729082 , 0.6729082 , 0.6729082 ,\n",
      "       0.66831482, 0.6729082 , 0.6729082 , 0.67159581, 0.67159581,\n",
      "       0.67159581, 0.67061151, 0.67093961, 0.65847185, 0.6729082 ,\n",
      "       0.66700242, 0.66601812, 0.66569003, 0.66601812, 0.65883275,\n",
      "       0.67093961, 0.65847185, 0.66995531, 0.66569003, 0.66569003,\n",
      "       0.65847185, 0.65879994, 0.65847185, 0.65847185, 0.65912804])]\n",
      "[0.6584718458196903]\n",
      "\n"
     ]
    }
   ],
   "source": [
    "for i in range(60, len(train_data)):\n",
    "    x_train.append(train_data[i-60:i, 0])  # Take 60 consecutive data points\n",
    "    y_train.append(train_data[i, 0])      # Take the next data point as the target\n",
    "    if i <= 60:\n",
    "        print(x_train)\n",
    "        print(y_train)\n",
    "        print()"
   ]
  },
  {
   "cell_type": "code",
   "execution_count": 52,
   "metadata": {},
   "outputs": [],
   "source": [
    "# Convert the x_train and y_train to numpy arrays \n",
    "x_train, y_train = np.array(x_train), np.array(y_train)"
   ]
  },
  {
   "cell_type": "code",
   "execution_count": 53,
   "metadata": {},
   "outputs": [
    {
     "data": {
      "text/plain": [
       "(13683, 60)"
      ]
     },
     "execution_count": 53,
     "metadata": {},
     "output_type": "execute_result"
    }
   ],
   "source": [
    "x_train.shape"
   ]
  },
  {
   "cell_type": "markdown",
   "metadata": {},
   "source": [
    "LSTM requires the data to be in this format: \"(number_of_samples, time_steps, number_of_features).\""
   ]
  },
  {
   "cell_type": "markdown",
   "metadata": {},
   "source": [
    "The 1 in the last index signifies that there's one feature per time step. "
   ]
  },
  {
   "cell_type": "code",
   "execution_count": 55,
   "metadata": {},
   "outputs": [],
   "source": [
    "# Reshape the data\n",
    "x_train = np.reshape(x_train, (x_train.shape[0], x_train.shape[1], 1))"
   ]
  },
  {
   "cell_type": "code",
   "execution_count": 56,
   "metadata": {},
   "outputs": [
    {
     "data": {
      "text/plain": [
       "(13683, 60, 1)"
      ]
     },
     "execution_count": 56,
     "metadata": {},
     "output_type": "execute_result"
    }
   ],
   "source": [
    "x_train.shape"
   ]
  },
  {
   "cell_type": "code",
   "execution_count": 59,
   "metadata": {},
   "outputs": [
    {
     "name": "stdout",
     "output_type": "stream",
     "text": [
      "13683/13683 [==============================] - 377s 27ms/step - loss: 2.4889e-04\n"
     ]
    },
    {
     "data": {
      "text/plain": [
       "<keras.src.callbacks.History at 0x184bcefac70>"
      ]
     },
     "execution_count": 59,
     "metadata": {},
     "output_type": "execute_result"
    }
   ],
   "source": [
    "from keras.models import Sequential\n",
    "from keras.layers import Dense, LSTM\n",
    "\n",
    "# Build the LSTM model\n",
    "model = Sequential()\n",
    "model.add(LSTM(128, return_sequences=True, input_shape= (x_train.shape[1], 1)))\n",
    "model.add(LSTM(64, return_sequences=False))\n",
    "model.add(Dense(25))\n",
    "model.add(Dense(1))\n",
    "\n",
    "# Compile the model\n",
    "model.compile(optimizer='adam', loss='mean_squared_error')\n",
    "\n",
    "# Train the model\n",
    "model.fit(x_train, y_train, batch_size=1, epochs=1)"
   ]
  },
  {
   "cell_type": "code",
   "execution_count": 60,
   "metadata": {},
   "outputs": [
    {
     "name": "stdout",
     "output_type": "stream",
     "text": [
      "23/23 [==============================] - 2s 36ms/step\n"
     ]
    },
    {
     "data": {
      "text/plain": [
       "0.6978833321540528"
      ]
     },
     "execution_count": 60,
     "metadata": {},
     "output_type": "execute_result"
    }
   ],
   "source": [
    "# Create the testing data set\n",
    "# Create a new array containing scaled values from index 1543 to 2002 \n",
    "test_data = scaled_data[training_data_len - 60: , :]\n",
    "# Create the data sets x_test and y_test\n",
    "x_test = []\n",
    "y_test = dataset[training_data_len:, :]\n",
    "for i in range(60, len(test_data)):\n",
    "    x_test.append(test_data[i-60:i, 0])\n",
    "    \n",
    "# Convert the data to a numpy array\n",
    "x_test = np.array(x_test)\n",
    "\n",
    "# Reshape the data\n",
    "x_test = np.reshape(x_test, (x_test.shape[0], x_test.shape[1], 1 ))\n",
    "\n",
    "# Get the models predicted price values \n",
    "predictions = model.predict(x_test)\n",
    "predictions = scaler.inverse_transform(predictions)\n",
    "\n",
    "# Get the root mean squared error (RMSE)\n",
    "rmse = np.sqrt(np.mean(((predictions - y_test) ** 2)))\n",
    "rmse"
   ]
  },
  {
   "cell_type": "code",
   "execution_count": 65,
   "metadata": {},
   "outputs": [
    {
     "name": "stderr",
     "output_type": "stream",
     "text": [
      "C:\\Users\\Portable\\AppData\\Local\\Temp\\ipykernel_2856\\2269485014.py:4: SettingWithCopyWarning: \n",
      "A value is trying to be set on a copy of a slice from a DataFrame.\n",
      "Try using .loc[row_indexer,col_indexer] = value instead\n",
      "\n",
      "See the caveats in the documentation: https://pandas.pydata.org/pandas-docs/stable/user_guide/indexing.html#returning-a-view-versus-a-copy\n",
      "  valid['Predictions'] = predictions\n"
     ]
    },
    {
     "data": {
      "image/png": "[encoded data removed]",
      "text/plain": [
       "<Figure size 1600x600 with 1 Axes>"
      ]
     },
     "metadata": {},
     "output_type": "display_data"
    }
   ],
   "source": [
    "# Plot the data\n",
    "train = data[:training_data_len]\n",
    "valid = data[training_data_len:]\n",
    "valid['Predictions'] = predictions\n",
    "# Visualize the data\n",
    "plt.figure(figsize=(16,6))\n",
    "plt.title('Model')\n",
    "plt.xlabel('Date', fontsize=18)\n",
    "plt.ylabel('Close Price USD ($)', fontsize=18)\n",
    "plt.plot(train['close'])\n",
    "plt.plot(valid[['close', 'Predictions']])\n",
    "plt.legend(['Train', 'Val', 'Predictions'], loc='lower right')\n",
    "plt.show()"
   ]
  },
  {
   "cell_type": "code",
   "execution_count": 78,
   "metadata": {},
   "outputs": [],
   "source": [
    "from pathlib import Path\n",
    "from dataclasses import dataclass\n",
    "from src.StockPricePrediction import logger"
   ]
  },
  {
   "cell_type": "code",
   "execution_count": 79,
   "metadata": {},
   "outputs": [],
   "source": [
    "from src.StockPricePrediction.utils.common import read_yaml, create_directories\n",
    "from src.StockPricePrediction.constants import *"
   ]
  },
  {
   "cell_type": "code",
   "execution_count": 80,
   "metadata": {},
   "outputs": [],
   "source": [
    "@dataclass(frozen=True)\n",
    "class ModelTrainingConfig:\n",
    "    data_path: Path\n",
    "    test_size: float\n",
    "    learning_rate: float\n",
    "    epochs: int\n",
    "    batch_size: int\n",
    "    lstm_units: list\n",
    "    dense_units: list"
   ]
  },
  {
   "cell_type": "code",
   "execution_count": 86,
   "metadata": {},
   "outputs": [],
   "source": [
    "\n",
    "class ModelTraining:\n",
    "    def __init__(self, config: ModelTrainingConfig):\n",
    "        self.config = config\n",
    "        self.scaler = MinMaxScaler(feature_range=(0, 1))\n",
    "        self.model = None\n",
    "        \n",
    "    def build_model(self):\n",
    "        try:\n",
    "            model = Sequential()\n",
    "            # Add LSTM layers\n",
    "            for units in self.config.lstm_units:\n",
    "                model.add(LSTM(units, return_sequences=(units != self.config.lstm_units[-1])))\n",
    "            # Add dense layers\n",
    "            for units in self.config.dense_units:\n",
    "                model.add(Dense(units))\n",
    "            # Compile the model\n",
    "            model.compile(optimizer='adam', loss='mean_squared_error')\n",
    "            self.model = model\n",
    "            logger.info(\"Model built successfully.\")\n",
    "            return model\n",
    "        except Exception as e:\n",
    "            logger.error(f\"Error during model building: {e}\")\n",
    "            raise\n",
    "        return None"
   ]
  },
  {
   "cell_type": "code",
   "execution_count": 87,
   "metadata": {},
   "outputs": [],
   "source": [
    "class ConfigurationManager:\n",
    "    def __init__(self, config_filepath: Path):\n",
    "        self.config = read_yaml(config_filepath)\n",
    "\n",
    "    def get_model_training_config(self) -> ModelTrainingConfig:\n",
    "        config = self.config['model_params']\n",
    "\n",
    "        model_training_config = ModelTrainingConfig(\n",
    "            data_path=Path(config['data_path']),\n",
    "            test_size=config['test_size'],\n",
    "            learning_rate=config['learning_rate'],\n",
    "            epochs=config['epochs'],\n",
    "            batch_size=config['batch_size'],\n",
    "            lstm_units=config['lstm_units'],\n",
    "            dense_units=config['dense_units'],\n",
    "        )\n",
    "\n",
    "        return model_training_config"
   ]
  },
  {
   "cell_type": "code",
   "execution_count": 88,
   "metadata": {},
   "outputs": [
    {
     "name": "stdout",
     "output_type": "stream",
     "text": [
      "[2024-11-22 20:14:47,723: INFO: common: yaml file: config\\config.yaml loaded successfully]\n",
      "[2024-11-22 20:14:47,757: INFO: 2197671697: Model built successfully.]\n"
     ]
    },
    {
     "data": {
      "text/plain": [
       "<keras.src.engine.sequential.Sequential at 0x184c5c14580>"
      ]
     },
     "execution_count": 88,
     "metadata": {},
     "output_type": "execute_result"
    }
   ],
   "source": [
    "config_manager = ConfigurationManager(config_filepath=CONFIG_FILE_PATH)  \n",
    "model_training_config = config_manager.get_model_training_config()\n",
    "\n",
    "model_training = ModelTraining(config=model_training_config)\n",
    "model = model_training.build_model()\n",
    "model"
   ]
  },
  {
   "cell_type": "code",
   "execution_count": 95,
   "metadata": {},
   "outputs": [
    {
     "data": {
      "text/plain": [
       "{'name': 'sequential_3',\n",
       " 'layers': [{'module': 'keras.layers',\n",
       "   'class_name': 'LSTM',\n",
       "   'config': {'name': 'lstm_6',\n",
       "    'trainable': True,\n",
       "    'dtype': 'float32',\n",
       "    'return_sequences': True,\n",
       "    'return_state': False,\n",
       "    'go_backwards': False,\n",
       "    'stateful': False,\n",
       "    'unroll': False,\n",
       "    'time_major': False,\n",
       "    'units': 128,\n",
       "    'activation': 'tanh',\n",
       "    'recurrent_activation': 'sigmoid',\n",
       "    'use_bias': True,\n",
       "    'kernel_initializer': {'module': 'keras.initializers',\n",
       "     'class_name': 'GlorotUniform',\n",
       "     'config': {'seed': None},\n",
       "     'registered_name': None},\n",
       "    'recurrent_initializer': {'module': 'keras.initializers',\n",
       "     'class_name': 'Orthogonal',\n",
       "     'config': {'gain': 1.0, 'seed': None},\n",
       "     'registered_name': None},\n",
       "    'bias_initializer': {'module': 'keras.initializers',\n",
       "     'class_name': 'Zeros',\n",
       "     'config': {},\n",
       "     'registered_name': None},\n",
       "    'unit_forget_bias': True,\n",
       "    'kernel_regularizer': None,\n",
       "    'recurrent_regularizer': None,\n",
       "    'bias_regularizer': None,\n",
       "    'activity_regularizer': None,\n",
       "    'kernel_constraint': None,\n",
       "    'recurrent_constraint': None,\n",
       "    'bias_constraint': None,\n",
       "    'dropout': 0.0,\n",
       "    'recurrent_dropout': 0.0,\n",
       "    'implementation': 2},\n",
       "   'registered_name': None},\n",
       "  {'module': 'keras.layers',\n",
       "   'class_name': 'LSTM',\n",
       "   'config': {'name': 'lstm_7',\n",
       "    'trainable': True,\n",
       "    'dtype': 'float32',\n",
       "    'return_sequences': False,\n",
       "    'return_state': False,\n",
       "    'go_backwards': False,\n",
       "    'stateful': False,\n",
       "    'unroll': False,\n",
       "    'time_major': False,\n",
       "    'units': 64,\n",
       "    'activation': 'tanh',\n",
       "    'recurrent_activation': 'sigmoid',\n",
       "    'use_bias': True,\n",
       "    'kernel_initializer': {'module': 'keras.initializers',\n",
       "     'class_name': 'GlorotUniform',\n",
       "     'config': {'seed': None},\n",
       "     'registered_name': None},\n",
       "    'recurrent_initializer': {'module': 'keras.initializers',\n",
       "     'class_name': 'Orthogonal',\n",
       "     'config': {'gain': 1.0, 'seed': None},\n",
       "     'registered_name': None},\n",
       "    'bias_initializer': {'module': 'keras.initializers',\n",
       "     'class_name': 'Zeros',\n",
       "     'config': {},\n",
       "     'registered_name': None},\n",
       "    'unit_forget_bias': True,\n",
       "    'kernel_regularizer': None,\n",
       "    'recurrent_regularizer': None,\n",
       "    'bias_regularizer': None,\n",
       "    'activity_regularizer': None,\n",
       "    'kernel_constraint': None,\n",
       "    'recurrent_constraint': None,\n",
       "    'bias_constraint': None,\n",
       "    'dropout': 0.0,\n",
       "    'recurrent_dropout': 0.0,\n",
       "    'implementation': 2},\n",
       "   'registered_name': None},\n",
       "  {'module': 'keras.layers',\n",
       "   'class_name': 'Dense',\n",
       "   'config': {'name': 'dense_6',\n",
       "    'trainable': True,\n",
       "    'dtype': 'float32',\n",
       "    'units': 25,\n",
       "    'activation': 'linear',\n",
       "    'use_bias': True,\n",
       "    'kernel_initializer': {'module': 'keras.initializers',\n",
       "     'class_name': 'GlorotUniform',\n",
       "     'config': {'seed': None},\n",
       "     'registered_name': None},\n",
       "    'bias_initializer': {'module': 'keras.initializers',\n",
       "     'class_name': 'Zeros',\n",
       "     'config': {},\n",
       "     'registered_name': None},\n",
       "    'kernel_regularizer': None,\n",
       "    'bias_regularizer': None,\n",
       "    'activity_regularizer': None,\n",
       "    'kernel_constraint': None,\n",
       "    'bias_constraint': None},\n",
       "   'registered_name': None},\n",
       "  {'module': 'keras.layers',\n",
       "   'class_name': 'Dense',\n",
       "   'config': {'name': 'dense_7',\n",
       "    'trainable': True,\n",
       "    'dtype': 'float32',\n",
       "    'units': 1,\n",
       "    'activation': 'linear',\n",
       "    'use_bias': True,\n",
       "    'kernel_initializer': {'module': 'keras.initializers',\n",
       "     'class_name': 'GlorotUniform',\n",
       "     'config': {'seed': None},\n",
       "     'registered_name': None},\n",
       "    'bias_initializer': {'module': 'keras.initializers',\n",
       "     'class_name': 'Zeros',\n",
       "     'config': {},\n",
       "     'registered_name': None},\n",
       "    'kernel_regularizer': None,\n",
       "    'bias_regularizer': None,\n",
       "    'activity_regularizer': None,\n",
       "    'kernel_constraint': None,\n",
       "    'bias_constraint': None},\n",
       "   'registered_name': None}]}"
      ]
     },
     "execution_count": 95,
     "metadata": {},
     "output_type": "execute_result"
    }
   ],
   "source": [
    "config = model.get_config()\n",
    "config"
   ]
  },
  {
   "cell_type": "code",
   "execution_count": null,
   "metadata": {},
   "outputs": [],
   "source": []
  }
 ],
 "metadata": {
  "kernelspec": {
   "display_name": "MLOpsProject",
   "language": "python",
   "name": "python3"
  },
  "language_info": {
   "codemirror_mode": {
    "name": "ipython",
    "version": 3
   },
   "file_extension": ".py",
   "mimetype": "text/x-python",
   "name": "python",
   "nbconvert_exporter": "python",
   "pygments_lexer": "ipython3",
   "version": "3.8.20"
  }
 },
 "nbformat": 4,
 "nbformat_minor": 2
}
